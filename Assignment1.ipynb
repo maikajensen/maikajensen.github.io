{
 "cells": [
  {
   "cell_type": "markdown",
   "metadata": {},
   "source": [
    "# Assignment 1\n",
    "02805 Social graphs and interactions\n",
    "<br>Spring 2021"
   ]
  },
  {
   "cell_type": "markdown",
   "metadata": {},
   "source": [
    "# 1 Binning degree distributions"
   ]
  },
  {
   "cell_type": "code",
   "execution_count": 1,
   "metadata": {},
   "outputs": [],
   "source": [
    "# Imports\n",
    "import random \n",
    "from matplotlib import pyplot as plt \n",
    "%matplotlib inline\n",
    "import seaborn as sns\n",
    "sns.set()\n",
    "import numpy as np\n",
    "import networkx as nx\n",
    "from random import choice\n",
    "import collections\n",
    "from collections import Counter "
   ]
  },
  {
   "cell_type": "markdown",
   "metadata": {},
   "source": [
    "## 1.1 Binning real numbers "
   ]
  },
  {
   "cell_type": "markdown",
   "metadata": {},
   "source": [
    "The `random` library is used to generate 5000 points from a Gaussian distribution with $\\mu = 2$ and $\\sigma = 0.125$."
   ]
  },
  {
   "cell_type": "code",
   "execution_count": 2,
   "metadata": {},
   "outputs": [],
   "source": [
    "# Parameters\n",
    "mu = 2\n",
    "sigma = 0.125\n",
    "\n",
    "# Initialize list \n",
    "data = [] \n",
    "\n",
    "# Generate 500 random data points\n",
    "for i in range(5000):  \n",
    "    data.append(random.gauss(mu, sigma))"
   ]
  },
  {
   "cell_type": "markdown",
   "metadata": {},
   "source": [
    "`numpy.histogram` is used to bin the generated numbers into 10 bins. "
   ]
  },
  {
   "cell_type": "code",
   "execution_count": 3,
   "metadata": {},
   "outputs": [
    {
     "name": "stdout",
     "output_type": "stream",
     "text": [
      "Number of values: 10\n",
      "Number of bin edges: 11\n"
     ]
    }
   ],
   "source": [
    "# Save to two arrays\n",
    "hist, bins = np.histogram(data, bins = 10)\n",
    "\n",
    "print(\"Number of values:\", len(hist))\n",
    "print(\"Number of bin edges:\", len(bins))"
   ]
  },
  {
   "cell_type": "markdown",
   "metadata": {},
   "source": [
    "The `numpy.histogram` function returns two arrays, `hist` containing the values of the histogram (number of observations in each bin), and `bins` which corresponds to the edges of the bins. The arrays do not have the same length, the length of `bins` equals the length of `hist`$+1$. This makes sense, as there is a starting bin edge, then a hist, then a bin edge, then a hist and so on, ending with a bin edge (bin edge starts and finishes the sequense, hence is 1 unit longer than hist).  "
   ]
  },
  {
   "cell_type": "markdown",
   "metadata": {},
   "source": [
    "`matplotlib.pyplot.plot` is used to plot the binned data. To avoid the problem of the count- and bin-arrays having different lengths, the original data is used as input to `plt.hist`, together with the previously found bin edges. `plt.hist` now figures out how many values to put in each bin from the defined edges.  "
   ]
  },
  {
   "cell_type": "code",
   "execution_count": 4,
   "metadata": {},
   "outputs": [
    {
     "data": {
      "image/png": "[encoded data removed]",
      "text/plain": [
       "<Figure size 432x288 with 1 Axes>"
      ]
     },
     "metadata": {},
     "output_type": "display_data"
    }
   ],
   "source": [
    "n = 1\n",
    "\n",
    "plt.hist(data, bins = bins, color = \"#9932CC\", alpha = 0.5) \n",
    "plt.xlabel('Value')\n",
    "plt.ylabel('Count')\n",
    "txt = f\"Figure {n}. Histogram of random data from a Gaussian distribution.\"\n",
    "plt.figtext(0.5, -0.05, txt, wrap = True, horizontalalignment = 'center', fontsize = 12)\n",
    "\n",
    "plt.show()"
   ]
  },
  {
   "cell_type": "markdown",
   "metadata": {},
   "source": [
    "## 1.2 Binning integers "
   ]
  },
  {
   "cell_type": "markdown",
   "metadata": {},
   "source": [
    "`numpy.random.poisson` is used to generate 5000 numbers drawn from a Poisson distribution characterized by $\\lambda = 10$. "
   ]
  },
  {
   "cell_type": "code",
   "execution_count": 5,
   "metadata": {},
   "outputs": [],
   "source": [
    "data = np.random.poisson(lam = 10, size = 5000)"
   ]
  },
  {
   "cell_type": "markdown",
   "metadata": {},
   "source": [
    "The maximum and minimum values of above data are "
   ]
  },
  {
   "cell_type": "code",
   "execution_count": 6,
   "metadata": {},
   "outputs": [
    {
     "name": "stdout",
     "output_type": "stream",
     "text": [
      "Minimum value: 1\n",
      "Maximum value: 29\n"
     ]
    }
   ],
   "source": [
    "min_val = np.min(data) \n",
    "max_val = np.max(data)\n",
    "\n",
    "print(\"Minimum value:\", min_val)\n",
    "print(\"Maximum value:\", max_val)"
   ]
  },
  {
   "cell_type": "markdown",
   "metadata": {},
   "source": [
    "A vector $v$ that results in a binning that puts each integer value in its own bin is created. For the first bin to contain the minimum value, and the last bin to contain the maximum value found above, the last entry in v has to be $max\\_val + 1 $. "
   ]
  },
  {
   "cell_type": "code",
   "execution_count": 7,
   "metadata": {},
   "outputs": [],
   "source": [
    "# range() does not include last value - additional 1 is added to max_val \n",
    "v = range(min_val, max_val + 2) "
   ]
  },
  {
   "cell_type": "markdown",
   "metadata": {},
   "source": [
    "$v$ is used as `numpy.histogram`'s `bin` parameter."
   ]
  },
  {
   "cell_type": "code",
   "execution_count": 8,
   "metadata": {},
   "outputs": [],
   "source": [
    "hist, bins = np.histogram(data, bins = v) "
   ]
  },
  {
   "cell_type": "markdown",
   "metadata": {},
   "source": [
    "The sum over bin counts is "
   ]
  },
  {
   "cell_type": "code",
   "execution_count": 9,
   "metadata": {},
   "outputs": [
    {
     "data": {
      "text/plain": [
       "5000"
      ]
     },
     "execution_count": 9,
     "metadata": {},
     "output_type": "execute_result"
    }
   ],
   "source": [
    "sum(hist)"
   ]
  },
  {
   "cell_type": "code",
   "execution_count": 10,
   "metadata": {},
   "outputs": [
    {
     "name": "stdout",
     "output_type": "stream",
     "text": [
      "First element of v: 1\n",
      "Last element of v: 30\n"
     ]
    }
   ],
   "source": [
    "print(\"First element of v:\", bins[0])\n",
    "print(\"Last element of v:\", bins[len(bins) - 1])"
   ]
  },
  {
   "cell_type": "markdown",
   "metadata": {},
   "source": [
    "The binning-vectors fist element is equal to the min value from the generated Poisson distribution, while the binning-vectors last element is equal to the max value $+1$."
   ]
  },
  {
   "cell_type": "markdown",
   "metadata": {},
   "source": [
    "A bar chart is used to plot the distribution."
   ]
  },
  {
   "cell_type": "code",
   "execution_count": 11,
   "metadata": {},
   "outputs": [
    {
     "data": {
      "image/png": "[encoded data removed]",
      "text/plain": [
       "<Figure size 432x288 with 1 Axes>"
      ]
     },
     "metadata": {},
     "output_type": "display_data"
    }
   ],
   "source": [
    "n += 1\n",
    "\n",
    "plt.bar(bins[:max_val], hist, align='center', color = \"#9932CC\", alpha = 0.5)\n",
    "plt.xticks(bins[:max_val])\n",
    "plt.xlim(min_val - 1, max_val + 1)  \n",
    "plt.xlabel('Value')\n",
    "plt.ylabel('Count')\n",
    "txt = f\"Figure {n}. Bar chart of random data from a Poisson distribution.\"\n",
    "plt.figtext(0.5, -0.05, txt, wrap = True, horizontalalignment = 'center', fontsize = 12)\n",
    "\n",
    "plt.show()"
   ]
  },
  {
   "cell_type": "markdown",
   "metadata": {},
   "source": [
    "## 1.3 Binning and plotting degree distributions"
   ]
  },
  {
   "cell_type": "markdown",
   "metadata": {},
   "source": [
    "The Erdös-Renyi network with parameters $N = 5000$ and $p = \\frac{\\langle k \\rangle}{N-1} = \\frac{10 }{5000-1}$ is generated and the degree distribution is extracted."
   ]
  },
  {
   "cell_type": "code",
   "execution_count": 17,
   "metadata": {},
   "outputs": [],
   "source": [
    "N = 5000\n",
    "p = 10/(N-1)\n",
    "\n",
    "# Create graph\n",
    "G = nx.erdos_renyi_graph(N, p) \n",
    "\n",
    "# Extract degrees\n",
    "degrees = [G.degree(n) for n in G.nodes()]"
   ]
  },
  {
   "cell_type": "code",
   "execution_count": 18,
   "metadata": {},
   "outputs": [],
   "source": [
    "min_val = np.min(degrees) \n",
    "max_val = np.max(degrees)\n",
    "\n",
    "v = range(min_val, max_val + 2) \n",
    "hist, bins = np.histogram(degrees, bins = v) "
   ]
  },
  {
   "cell_type": "markdown",
   "metadata": {},
   "source": [
    "The degree distribution is plotted below. "
   ]
  },
  {
   "cell_type": "code",
   "execution_count": 19,
   "metadata": {},
   "outputs": [
    {
     "data": {
      "image/png": "[encoded data removed]",
      "text/plain": [
       "<Figure size 432x288 with 1 Axes>"
      ]
     },
     "metadata": {},
     "output_type": "display_data"
    }
   ],
   "source": [
    "plt.figure(figsize = [6, 4])\n",
    "n += 1\n",
    "\n",
    "plt.bar(bins[:max_val], hist, align='center', color = \"#9932CC\", alpha = 0.5)\n",
    "plt.xticks(bins[:max_val])\n",
    "plt.xlim(min_val-1, max_val+1)  \n",
    "plt.xlabel('Value')\n",
    "plt.ylabel('Frequency')\n",
    "txt = f\"Figure {n}. Bar chart of degree distribution of ER network.\"\n",
    "plt.figtext(0.5, -0.05, txt, wrap = True, horizontalalignment = 'center', fontsize = 12)\n",
    "\n",
    "plt.show()"
   ]
  },
  {
   "cell_type": "markdown",
   "metadata": {},
   "source": [
    "Figure 3 looks very similar to Figure 2. Corresponds to the fact that for $N >> k$, the binomial (the exact form of the degree distribution of a random network) is well approximated by a Poisson distribution [[BaAl16](http://barabasi.com/networksciencebook/)]."
   ]
  },
  {
   "cell_type": "markdown",
   "metadata": {},
   "source": [
    "# 2 Random networks and plotting in `networkx`"
   ]
  },
  {
   "cell_type": "markdown",
   "metadata": {},
   "source": [
    "## 2.1 Network Science exercise 3.1"
   ]
  },
  {
   "cell_type": "markdown",
   "metadata": {},
   "source": [
    "An Erdős-Rényi network with $N = 3000$ nodes, connected to each other with probability $p = 10^{-3}$ is considered. <br>\n",
    "\n",
    "The expected number of links is $\\langle L\\rangle=\\frac{p N(N-1)}{2}$ [[BaAl16](http://barabasi.com/networksciencebook/)]."
   ]
  },
  {
   "cell_type": "code",
   "execution_count": 39,
   "metadata": {},
   "outputs": [
    {
     "data": {
      "text/plain": [
       "4498.5"
      ]
     },
     "execution_count": 39,
     "metadata": {},
     "output_type": "execute_result"
    }
   ],
   "source": [
    "N = 3000\n",
    "p = 0.001\n",
    "\n",
    "(p*N*(N-1))/2"
   ]
  },
  {
   "cell_type": "code",
   "execution_count": 40,
   "metadata": {},
   "outputs": [
    {
     "name": "stdout",
     "output_type": "stream",
     "text": [
      "0.001\n",
      "0.0003333333333333333\n"
     ]
    }
   ],
   "source": [
    "print(p)\n",
    "print(1/N)"
   ]
  },
  {
   "cell_type": "markdown",
   "metadata": {},
   "source": [
    "As $p>\\frac{1}{N}$, the network is in the supercritical regime. "
   ]
  },
  {
   "cell_type": "markdown",
   "metadata": {},
   "source": [
    "The probability $p_c$ so the network is at the critical point is $p=1/N$."
   ]
  },
  {
   "cell_type": "code",
   "execution_count": 41,
   "metadata": {},
   "outputs": [],
   "source": [
    "pc = 1/N"
   ]
  },
  {
   "cell_type": "markdown",
   "metadata": {},
   "source": [
    "Given $p=0.001$, the number og nodes $N^{cr}$ so that the network has only one component (has to fulfill $k>lnN^{cr}$) is found by solving: <br>\n",
    "$k>lnN^{cr} =>$ <br>\n",
    "$p(N^{cr}-1)>lnN^{cr}$ => <br>\n",
    "$0.001(N-1)>lnN^{cr}$ <br>\n",
    "giving $N^{cr}>9119.13$ so $N^{cr}=9120$."
   ]
  },
  {
   "cell_type": "markdown",
   "metadata": {},
   "source": [
    "The average degree is then  $\\langle k^{cr}\\rangle = p(N^{cr}-1)$"
   ]
  },
  {
   "cell_type": "code",
   "execution_count": 42,
   "metadata": {},
   "outputs": [],
   "source": [
    "Ncr = 9120\n",
    "kcr = p*(Ncr-1)"
   ]
  },
  {
   "cell_type": "markdown",
   "metadata": {},
   "source": [
    "The average distance between 2 randomly chosen nodes is $\\langle d\\rangle \\approx \\frac{\\ln N}{\\ln \\langle k\\rangle}$"
   ]
  },
  {
   "cell_type": "code",
   "execution_count": 43,
   "metadata": {},
   "outputs": [
    {
     "data": {
      "text/plain": [
       "4.12522144293705"
      ]
     },
     "execution_count": 43,
     "metadata": {},
     "output_type": "execute_result"
    }
   ],
   "source": [
    "np.log(Ncr)/np.log(kcr)"
   ]
  },
  {
   "cell_type": "markdown",
   "metadata": {},
   "source": [
    "The degree distribution of this network is"
   ]
  },
  {
   "cell_type": "code",
   "execution_count": 44,
   "metadata": {},
   "outputs": [],
   "source": [
    "N = Ncr\n",
    "p = kcr/(N-1)\n",
    "\n",
    "# Create graph\n",
    "G = nx.erdos_renyi_graph(N, p) \n",
    "\n",
    "# Extract degrees\n",
    "degrees = [G.degree(n) for n in G.nodes()]"
   ]
  },
  {
   "cell_type": "code",
   "execution_count": 45,
   "metadata": {},
   "outputs": [],
   "source": [
    "# Prepare plotting\n",
    "min_val = np.min(degrees) \n",
    "max_val = np.max(degrees)\n",
    "v = range(min_val, max_val + 2)\n",
    "hist, bins = np.histogram(degrees, bins = v) "
   ]
  },
  {
   "cell_type": "code",
   "execution_count": 46,
   "metadata": {},
   "outputs": [
    {
     "data": {
      "image/png": "[encoded data removed]",
      "text/plain": [
       "<Figure size 432x288 with 1 Axes>"
      ]
     },
     "metadata": {},
     "output_type": "display_data"
    }
   ],
   "source": [
    "n += 1\n",
    "\n",
    "plt.bar(bins[:max_val], hist, align='center', color = \"#9932CC\", alpha = 0.5)\n",
    "plt.xticks(bins[:max_val])\n",
    "plt.xlim(min_val - 1, max_val + 1)  \n",
    "plt.xlabel('Value')\n",
    "plt.ylabel('Count')\n",
    "txt = f\"Figure {n}. Degree distribution of the network.\"\n",
    "plt.figtext(0.5, -0.05, txt, wrap = True, horizontalalignment = 'center', fontsize = 12)\n",
    "\n",
    "plt.show()"
   ]
  },
  {
   "cell_type": "markdown",
   "metadata": {},
   "source": [
    "## 2.2 Paths"
   ]
  },
  {
   "cell_type": "markdown",
   "metadata": {},
   "source": [
    "A random network with 200 nodes and an average degree of 1.5 is shown below. "
   ]
  },
  {
   "cell_type": "code",
   "execution_count": 47,
   "metadata": {},
   "outputs": [
    {
     "data": {
      "image/png": "[encoded data removed]",
      "text/plain": [
       "<Figure size 432x288 with 1 Axes>"
      ]
     },
     "metadata": {},
     "output_type": "display_data"
    }
   ],
   "source": [
    "N = 200\n",
    "k = 1.\n",
    "p = k/(N-1)\n",
    "\n",
    "G = nx.erdos_renyi_graph(N, p) \n",
    "nx.draw(G, node_color='#9932CC', node_size=50, with_labels=False, node_shape='o', edge_color='.1', width=1.3)"
   ]
  },
  {
   "cell_type": "markdown",
   "metadata": {},
   "source": [
    "The Giant Connected Component is extracted."
   ]
  },
  {
   "cell_type": "code",
   "execution_count": 48,
   "metadata": {},
   "outputs": [],
   "source": [
    "GCC = sorted(nx.connected_components(G), key=len, reverse=True)[0]\n",
    "GCC = G.subgraph(GCC)"
   ]
  },
  {
   "cell_type": "markdown",
   "metadata": {},
   "source": [
    "A random node is chosen from the GCC. "
   ]
  },
  {
   "cell_type": "code",
   "execution_count": 49,
   "metadata": {},
   "outputs": [],
   "source": [
    "random_node = choice(list(GCC.nodes))"
   ]
  },
  {
   "cell_type": "markdown",
   "metadata": {},
   "source": [
    "All nodes that are precisely 2 steps away from the random node are found. "
   ]
  },
  {
   "cell_type": "code",
   "execution_count": 50,
   "metadata": {},
   "outputs": [],
   "source": [
    "length = nx.single_source_shortest_path_length(GCC, random_node, 2)\n",
    "length = {k:v for (k,v) in length.items() if v == 2}"
   ]
  },
  {
   "cell_type": "markdown",
   "metadata": {},
   "source": [
    "The GCC is plotted with colors corresponding to starting node, nodes 2 steps away from the starting node, and the rest."
   ]
  },
  {
   "cell_type": "code",
   "execution_count": 51,
   "metadata": {},
   "outputs": [],
   "source": [
    "color_map = []\n",
    "for node in GCC:\n",
    "    if node == random_node:\n",
    "        color_map.append(\"#000000\")\n",
    "    elif node in length.keys():\n",
    "        color_map.append('#ff0000')\n",
    "    else: \n",
    "        color_map.append('#A0CBE2')   "
   ]
  },
  {
   "cell_type": "code",
   "execution_count": 52,
   "metadata": {},
   "outputs": [
    {
     "data": {
      "image/png": "[encoded data removed]",
      "text/plain": [
       "<Figure size 432x288 with 1 Axes>"
      ]
     },
     "metadata": {},
     "output_type": "display_data"
    }
   ],
   "source": [
    "nx.draw_spring(GCC, node_color=color_map, node_size=50, with_labels=False, node_shape='o')"
   ]
  },
  {
   "cell_type": "markdown",
   "metadata": {},
   "source": [
    "# 3 Watts-Strogatz Networks"
   ]
  },
  {
   "cell_type": "markdown",
   "metadata": {},
   "source": [
    "## 3.1 Simple WS graphs"
   ]
  },
  {
   "cell_type": "markdown",
   "metadata": {},
   "source": [
    "`nx.watts_strogatz_graph` is used to generate 3 graphs with 500 nodes each, average degree = 4, and rewiring probablity $p = 0, 0.1, \\textrm{and}  1$. The average shortest path length $\\langle d \\rangle$ is calculated for each graph. "
   ]
  },
  {
   "cell_type": "code",
   "execution_count": 53,
   "metadata": {},
   "outputs": [
    {
     "name": "stdout",
     "output_type": "stream",
     "text": [
      "<d> when p = 0: 62.88\n",
      "<d> when p = 0.1: 7.47\n",
      "<d> when p = 1: 4.77\n"
     ]
    }
   ],
   "source": [
    "N = 500\n",
    "k = 4\n",
    "\n",
    "for i, p in enumerate([0, 0.1, 1]):\n",
    "    g = nx.watts_strogatz_graph(N, k, p)\n",
    "    print(f\"<d> when p = {p}: {round(nx.average_shortest_path_length(g),2)}\")"
   ]
  },
  {
   "cell_type": "markdown",
   "metadata": {},
   "source": [
    "When $p = 1$, all links have been rewired, and the network turns into a random network. "
   ]
  },
  {
   "cell_type": "markdown",
   "metadata": {},
   "source": [
    "## 3.2 Understanding the behaviour of the WS model"
   ]
  },
  {
   "cell_type": "markdown",
   "metadata": {},
   "source": [
    "50 networks with $N = 500$, $\\langle k \\rangle = 4$, are generated for each of $p = \\{0, 0.01, 0.03, 0.05, 0.1, 0.2\\}$ and the average of $\\langle d \\rangle$ as well as the standard deviation over the 50 networks is calculated. "
   ]
  },
  {
   "cell_type": "code",
   "execution_count": 54,
   "metadata": {},
   "outputs": [],
   "source": [
    "P = [0, 0.01, 0.03, 0.05, 0.1, 0.2]\n",
    "\n",
    "std_tot = []\n",
    "avg_tot = []\n",
    "\n",
    "for i, p in enumerate(P):\n",
    "    avg_path = []\n",
    "    for i in range(50):\n",
    "        g = nx.watts_strogatz_graph(N, k, p)\n",
    "        avg_path.append(nx.average_shortest_path_length(g))\n",
    "    avg_tot.append(np.mean(avg_path))\n",
    "    std_tot.append(np.std(avg_path))"
   ]
  },
  {
   "cell_type": "markdown",
   "metadata": {},
   "source": [
    "Below plot shows how the path length decreases very quickly with only a little fraction of re-wiring. "
   ]
  },
  {
   "cell_type": "code",
   "execution_count": 55,
   "metadata": {},
   "outputs": [
    {
     "data": {
      "image/png": "[encoded data removed]",
      "text/plain": [
       "<Figure size 504x288 with 1 Axes>"
      ]
     },
     "metadata": {},
     "output_type": "display_data"
    }
   ],
   "source": [
    "plt.rcParams[\"figure.figsize\"] = (7,4)\n",
    "(_, caps, _) = plt.errorbar(P, avg_tot, yerr=std_tot, fmt='o-', markersize=8, capsize=2, color='black')\n",
    "plt.xlabel(\"p\")\n",
    "plt.ylabel(\"ave(<d>)\")\n",
    "plt.xticks(np.arange(0, 0.21, step=0.05))\n",
    "\n",
    "for cap in caps:\n",
    "    cap.set_markeredgewidth(1)"
   ]
  },
  {
   "cell_type": "markdown",
   "metadata": {},
   "source": [
    "As $p$ increases, the average shortest path decreases, as does the standard deviation.  "
   ]
  },
  {
   "cell_type": "markdown",
   "metadata": {},
   "source": [
    "# 4 The Barabasi-Albert Model"
   ]
  },
  {
   "cell_type": "markdown",
   "metadata": {},
   "source": [
    "## 4.1 Creating a BA network"
   ]
  },
  {
   "cell_type": "markdown",
   "metadata": {},
   "source": [
    "In this section, a 100 node BA network is created using a \"homemade\" BA model."
   ]
  },
  {
   "cell_type": "code",
   "execution_count": 56,
   "metadata": {},
   "outputs": [],
   "source": [
    "# Step 1: create a graph consisting of a single link \n",
    "G = nx.Graph()\n",
    "G.add_edge(0, 1)\n",
    "\n",
    "# Step 3: Keep going until you have a 100 node network \n",
    "for i in range(2,100):\n",
    "    # Step 2a: add another node\n",
    "    G.add_node(i)\n",
    "    \n",
    "    # Step 2b: connect newly added node to one of the existing nodes in proportion to their degree \n",
    "    regular_list = list(G.edges())\n",
    "    flat_list = [item for sublist in regular_list for item in sublist]\n",
    "    G.add_edge(i,choice(flat_list))"
   ]
  },
  {
   "cell_type": "code",
   "execution_count": 57,
   "metadata": {},
   "outputs": [
    {
     "data": {
      "image/png": "[encoded data removed]",
      "text/plain": [
       "<Figure size 504x288 with 1 Axes>"
      ]
     },
     "metadata": {},
     "output_type": "display_data"
    }
   ],
   "source": [
    "nx.draw_spring(G, node_color='#9932CC', node_size=50, with_labels=False, node_shape='o', edge_color='.1', width=1.3)"
   ]
  },
  {
   "cell_type": "markdown",
   "metadata": {},
   "source": [
    "## 4.2  A 5000 node network"
   ]
  },
  {
   "cell_type": "code",
   "execution_count": 58,
   "metadata": {},
   "outputs": [],
   "source": [
    "G = nx.Graph()\n",
    "G.add_edge(0, 1)\n",
    "for i in range(2, 5000):\n",
    "    G.add_node(i)\n",
    "    regular_list = list(G.edges())\n",
    "    flat_list = [item for sublist in regular_list for item in sublist]\n",
    "    G.add_edge(i,choice(flat_list))"
   ]
  },
  {
   "cell_type": "code",
   "execution_count": 59,
   "metadata": {},
   "outputs": [
    {
     "name": "stdout",
     "output_type": "stream",
     "text": [
      "Minimum degree: 0\n",
      "Maximum degree: 4999\n"
     ]
    }
   ],
   "source": [
    "print(\"Minimum degree:\", np.min(G.degree))\n",
    "print(\"Maximum degree:\", np.max(G.degree))"
   ]
  },
  {
   "cell_type": "markdown",
   "metadata": {},
   "source": [
    "The degree distribution is binned using `collections.Counter` and plotted with  linear and log-log axes."
   ]
  },
  {
   "cell_type": "code",
   "execution_count": 60,
   "metadata": {},
   "outputs": [
    {
     "data": {
      "image/png": "[encoded data removed]",
      "text/plain": [
       "<Figure size 432x144 with 1 Axes>"
      ]
     },
     "metadata": {},
     "output_type": "display_data"
    },
    {
     "data": {
      "image/png": "[encoded data removed]",
      "text/plain": [
       "<Figure size 432x144 with 1 Axes>"
      ]
     },
     "metadata": {},
     "output_type": "display_data"
    }
   ],
   "source": [
    "degree_sequence = sorted([d for n, d in G.degree()])  \n",
    "degreeCount = collections.Counter(degree_sequence)\n",
    "deg, cnt = zip(*degreeCount.items())\n",
    "\n",
    "fig, ax = plt.subplots(figsize=(6,2))\n",
    "plt.scatter(deg, cnt, color=\"#C3A1EC\")\n",
    "plt.title(\"Degree Distribution\", fontsize=16)\n",
    "plt.ylabel(\"Count\", fontsize=12)\n",
    "plt.xlabel(\"k\", fontsize=12)\n",
    "\n",
    "fig, ax = plt.subplots(figsize=(6,2))\n",
    "plt.scatter(deg, cnt, color=\"#C3A1EC\")\n",
    "plt.xscale('log')\n",
    "plt.yscale('log')\n",
    "plt.title(\"Degree Distribution (Log Log)\", fontsize=16)\n",
    "plt.ylabel(\"Count\", fontsize=12)\n",
    "plt.xlabel(\"k\", fontsize=12)\n",
    "\n",
    "plt.show()"
   ]
  },
  {
   "cell_type": "markdown",
   "metadata": {},
   "source": [
    "# 5 Power-laws and the friendship paradox"
   ]
  },
  {
   "cell_type": "markdown",
   "metadata": {},
   "source": [
    "## 5.1 Exploring the friendship paradox "
   ]
  },
  {
   "cell_type": "markdown",
   "metadata": {},
   "source": [
    "In this section, the [Friendship paradox](https://en.wikipedia.org/wiki/Friendship_paradox) is explored. A random node is chosen from the network BA created above. "
   ]
  },
  {
   "cell_type": "code",
   "execution_count": 61,
   "metadata": {},
   "outputs": [
    {
     "name": "stdout",
     "output_type": "stream",
     "text": [
      "The friendship paradox is true 892 out of 1000 times.\n"
     ]
    }
   ],
   "source": [
    "count = 0\n",
    "\n",
    "for i in range(1001):\n",
    "    \n",
    "    # Pick a random node\n",
    "    random_node = choice(list(G.nodes))\n",
    "    \n",
    "    # Find its degree\n",
    "    n_friends = G.degree[random_node]\n",
    "    \n",
    "    # Find its neighbors\n",
    "    neighbors = list(G.neighbors(random_node))\n",
    "    friend_n_friend = []\n",
    "    \n",
    "    # Calculate the friends' average degrees\n",
    "    for k in range(0,len(neighbors)):\n",
    "        friend_n_friend.append(G.degree[neighbors[k]])\n",
    "        \n",
    "    # Make comparison add to count if i's friends on average has more friends than i\n",
    "    if len(neighbors) < np.mean(friend_n_friend):\n",
    "        count = count+1\n",
    "        \n",
    "print(f\"The friendship paradox is true {count} out of 1000 times.\")"
   ]
  },
  {
   "cell_type": "markdown",
   "metadata": {},
   "source": [
    "## 5.2 Network using growth mechanism without the preferential attachment"
   ]
  },
  {
   "cell_type": "markdown",
   "metadata": {},
   "source": [
    "A network of the same size and degree, using the growth mechanism without the preferential attachment is created. "
   ]
  },
  {
   "cell_type": "code",
   "execution_count": 62,
   "metadata": {},
   "outputs": [],
   "source": [
    "G = nx.Graph()\n",
    "G.add_edge(0, 1)\n",
    "for i in range(2, 5000):\n",
    "    G.add_node(i)\n",
    "    G.add_edge(i,choice(range(0,5000)))"
   ]
  },
  {
   "cell_type": "code",
   "execution_count": 63,
   "metadata": {},
   "outputs": [
    {
     "name": "stdout",
     "output_type": "stream",
     "text": [
      "Minimum degree: 0\n",
      "Maximum degree: 4999\n"
     ]
    }
   ],
   "source": [
    "print(\"Minimum degree:\", np.min(G.degree))\n",
    "print(\"Maximum degree:\", np.max(G.degree))"
   ]
  },
  {
   "cell_type": "code",
   "execution_count": 64,
   "metadata": {},
   "outputs": [],
   "source": [
    "degrees = [G.degree(n) for n in G.nodes()]"
   ]
  },
  {
   "cell_type": "code",
   "execution_count": 65,
   "metadata": {},
   "outputs": [],
   "source": [
    "min_val = np.min(degrees) \n",
    "max_val = np.max(degrees)\n",
    "\n",
    "v = range(min_val, max_val + 2) \n",
    "hist, bins = np.histogram(degrees, bins = v) "
   ]
  },
  {
   "cell_type": "code",
   "execution_count": 66,
   "metadata": {},
   "outputs": [
    {
     "data": {
      "image/png": "[encoded data removed]",
      "text/plain": [
       "<Figure size 432x288 with 1 Axes>"
      ]
     },
     "metadata": {},
     "output_type": "display_data"
    }
   ],
   "source": [
    "plt.figure(figsize = [6, 4])\n",
    "n += 1\n",
    "\n",
    "plt.bar(bins[:max_val], hist, align='center', color = \"#9932CC\", alpha = 0.5)\n",
    "plt.xticks(bins[:max_val])\n",
    "plt.xlim(min_val-1, max_val+1)  \n",
    "plt.xlabel('Value')\n",
    "plt.ylabel('Count')\n",
    "txt = f\"Figure {n}. Degree distribution of network without the preferential attachment.\"\n",
    "plt.figtext(0.5, -0.05, txt, wrap = True, horizontalalignment = 'center', fontsize = 12)\n",
    "\n",
    "plt.show()"
   ]
  },
  {
   "cell_type": "code",
   "execution_count": 67,
   "metadata": {},
   "outputs": [
    {
     "data": {
      "image/png": "[encoded data removed]",
      "text/plain": [
       "<Figure size 432x144 with 1 Axes>"
      ]
     },
     "metadata": {},
     "output_type": "display_data"
    },
    {
     "data": {
      "image/png": "[encoded data removed]",
      "text/plain": [
       "<Figure size 432x144 with 1 Axes>"
      ]
     },
     "metadata": {},
     "output_type": "display_data"
    }
   ],
   "source": [
    "degree_sequence = sorted([d for n, d in G.degree()])  \n",
    "degreeCount = collections.Counter(degree_sequence)\n",
    "deg, cnt = zip(*degreeCount.items())\n",
    "\n",
    "fig, ax = plt.subplots(figsize=(6,2))\n",
    "plt.scatter(deg, cnt, color=\"#C3A1EC\")\n",
    "plt.title(\"Degree Distribution\", fontsize=16)\n",
    "plt.ylabel(\"Count\", fontsize=12)\n",
    "plt.xlabel(\"k\", fontsize=12)\n",
    "\n",
    "fig, ax = plt.subplots(figsize=(6,2))\n",
    "plt.scatter(deg, cnt, color=\"#C3A1EC\")\n",
    "plt.xscale('log')\n",
    "plt.yscale('log')\n",
    "plt.title(\"Degree Distribution (Log Log)\", fontsize=16)\n",
    "plt.ylabel(\"Count\", fontsize=12)\n",
    "plt.xlabel(\"k\", fontsize=12)\n",
    "\n",
    "plt.show()"
   ]
  },
  {
   "cell_type": "markdown",
   "metadata": {},
   "source": [
    "Comparing to the ER network of the same size and same p. "
   ]
  },
  {
   "cell_type": "code",
   "execution_count": 72,
   "metadata": {},
   "outputs": [],
   "source": [
    "N = 5000\n",
    "p = np.mean(degrees)/(N-1)\n",
    "\n",
    "# Create graph\n",
    "G = nx.erdos_renyi_graph(N, p) \n",
    "\n",
    "# Extract degrees\n",
    "degrees = [G.degree(n) for n in G.nodes()]"
   ]
  },
  {
   "cell_type": "code",
   "execution_count": 73,
   "metadata": {},
   "outputs": [
    {
     "data": {
      "image/png": "[encoded data removed]",
      "text/plain": [
       "<Figure size 432x144 with 1 Axes>"
      ]
     },
     "metadata": {},
     "output_type": "display_data"
    },
    {
     "data": {
      "image/png": "[encoded data removed]",
      "text/plain": [
       "<Figure size 432x144 with 1 Axes>"
      ]
     },
     "metadata": {},
     "output_type": "display_data"
    }
   ],
   "source": [
    "degree_sequence = sorted([d for n, d in G.degree()])  \n",
    "degreeCount = collections.Counter(degree_sequence)\n",
    "deg, cnt = zip(*degreeCount.items())\n",
    "\n",
    "fig, ax = plt.subplots(figsize=(6,2))\n",
    "plt.scatter(deg, cnt, color=\"#C3A1EC\")\n",
    "plt.title(\"Degree Distribution\", fontsize=16)\n",
    "plt.ylabel(\"Count\", fontsize=12)\n",
    "plt.xlabel(\"k\", fontsize=12)\n",
    "\n",
    "fig, ax = plt.subplots(figsize=(6,2))\n",
    "plt.scatter(deg, cnt, color=\"#C3A1EC\")\n",
    "plt.xscale('log')\n",
    "plt.yscale('log')\n",
    "plt.title(\"Degree Distribution (Log Log)\", fontsize=16)\n",
    "plt.ylabel(\"Count\", fontsize=12)\n",
    "plt.xlabel(\"k\", fontsize=12)\n",
    "\n",
    "plt.show()"
   ]
  },
  {
   "cell_type": "code",
   "execution_count": 74,
   "metadata": {},
   "outputs": [],
   "source": [
    "min_val = np.min(degrees) \n",
    "max_val = np.max(degrees)\n",
    "\n",
    "v = range(min_val, max_val + 2) \n",
    "hist, bins = np.histogram(degrees, bins = v) "
   ]
  }
 ],
 "metadata": {
  "anaconda-cloud": {},
  "kernelspec": {
   "display_name": "Python 3",
   "language": "python",
   "name": "python3"
  },
  "language_info": {
   "codemirror_mode": {
    "name": "ipython",
    "version": 3
   },
   "file_extension": ".py",
   "mimetype": "text/x-python",
   "name": "python",
   "nbconvert_exporter": "python",
   "pygments_lexer": "ipython3",
   "version": "3.8.5"
  }
 },
 "nbformat": 4,
 "nbformat_minor": 1
}
